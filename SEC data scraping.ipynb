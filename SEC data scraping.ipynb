{
 "cells": [
  {
   "cell_type": "code",
   "execution_count": 19,
   "metadata": {},
   "outputs": [
    {
     "data": {
      "text/html": [
       "<style>.container { width:100% !important; }</style>"
      ],
      "text/plain": [
       "<IPython.core.display.HTML object>"
      ]
     },
     "metadata": {},
     "output_type": "display_data"
    }
   ],
   "source": [
    "from IPython.core.display import display, HTML\n",
    "display(HTML(\"<style>.container { width:100% !important; }</style>\"))\n"
   ]
  },
  {
   "cell_type": "code",
   "execution_count": 20,
   "metadata": {},
   "outputs": [],
   "source": [
    "import pandas as pd\n",
    "import pdb\n",
    "import time\n",
    "import numpy as np\n",
    "import scipy\n",
    "import sklearn\n",
    "final_date = pd.to_datetime('2004-1-30')\n",
    "import matplotlib.pyplot as plt\n",
    "import sys\n",
    "from datetime import timedelta\n",
    "from dateutil.relativedelta import relativedelta\n",
    "from sklearn.metrics import confusion_matrix, accuracy_score, precision_recall_fscore_support\n",
    "import statsmodels.api as sm\n",
    "from sklearn.ensemble import RandomForestRegressor, RandomForestClassifier\n",
    "from sklearn import svm\n",
    "from sklearn.linear_model import Lasso\n",
    "import datetime\n",
    "from scipy import stats"
   ]
  },
  {
   "cell_type": "code",
   "execution_count": 21,
   "metadata": {},
   "outputs": [],
   "source": [
    "import edgar\n",
    "import requests\n",
    "from bs4 import BeautifulSoup"
   ]
  },
  {
   "cell_type": "code",
   "execution_count": 22,
   "metadata": {},
   "outputs": [],
   "source": [
    "endpoint=r\"https://www.sec.gov/cgi-bin/browse-edgar\""
   ]
  },
  {
   "cell_type": "code",
   "execution_count": 23,
   "metadata": {},
   "outputs": [],
   "source": [
    "param_dict={'action':'getcompany','CIK':'1265107','type':'10-k','count':'100'}"
   ]
  },
  {
   "cell_type": "code",
   "execution_count": 24,
   "metadata": {},
   "outputs": [
    {
     "name": "stdout",
     "output_type": "stream",
     "text": [
      "https://www.sec.gov/cgi-bin/browse-edgar?action=getcompany&CIK=1265107&type=10-k&count=100\n"
     ]
    }
   ],
   "source": [
    "response=requests.get(url=endpoint,params=param_dict)\n",
    "soup=BeautifulSoup(response.content,'html.parser')\n",
    "print(response.url)"
   ]
  },
  {
   "cell_type": "code",
   "execution_count": 25,
   "metadata": {},
   "outputs": [],
   "source": [
    "doc_table=soup.find_all('table',class_='tableFile2')"
   ]
  },
  {
   "cell_type": "code",
   "execution_count": 26,
   "metadata": {},
   "outputs": [],
   "source": [
    "base_url_sec = r\"https://www.sec.gov\"\n"
   ]
  },
  {
   "cell_type": "code",
   "execution_count": 27,
   "metadata": {},
   "outputs": [],
   "source": [
    "master_list = []"
   ]
  },
  {
   "cell_type": "code",
   "execution_count": 28,
   "metadata": {},
   "outputs": [],
   "source": [
    "#loop through each row in the table\n",
    "for row in doc_table[0].find_all('tr'):\n",
    "    #find all columns\n",
    "    cols=row.find_all('td')\n",
    "    \n",
    "    if len(cols)!=0:\n",
    "        #grab the text\n",
    "        filing_type=cols[0].text.strip()\n",
    "        filing_date=cols[3].text.strip()\n",
    "        filing_numb=cols[4].text.strip()\n",
    "        #getting thelinks\n",
    "        filing_doc_href = cols[1].find('a', {'href':True, 'id':'documentsbutton'})       \n",
    "        filing_int_href = cols[1].find('a', {'href':True, 'id':'interactiveDataBtn'})\n",
    "        filing_num_href = cols[4].find('a')                            \n",
    "    \n",
    "        # grab the the first href\n",
    "        if filing_doc_href != None:\n",
    "            filing_doc_link = base_url_sec + filing_doc_href['href'] \n",
    "        else:\n",
    "            filing_doc_link = 'no link'\n",
    "        # grab the second href\n",
    "        if filing_int_href != None:\n",
    "            filing_int_link = base_url_sec + filing_int_href['href'] \n",
    "        else:\n",
    "            filing_int_link = 'no link'\n",
    "\n",
    "        # grab the third href\n",
    "        if filing_num_href != None:\n",
    "            filing_num_link = base_url_sec + filing_num_href['href'] \n",
    "        else:\n",
    "            filing_num_link = 'no link'\n",
    "        # create and store data in the dictionary\n",
    "        file_dict = {}\n",
    "        file_dict['file_type'] = filing_type\n",
    "        file_dict['file_number'] = filing_numb\n",
    "        file_dict['file_date'] = filing_date\n",
    "        file_dict['links'] = {}\n",
    "        file_dict['links']['documents'] = filing_doc_link\n",
    "        file_dict['links']['interactive_data'] = filing_int_link\n",
    "        file_dict['links']['filing_number'] = filing_num_link   \n",
    "        master_list.append(file_dict)"
   ]
  },
  {
   "cell_type": "code",
   "execution_count": 13,
   "metadata": {},
   "outputs": [
    {
     "ename": "NameError",
     "evalue": "name 'cik_name' is not defined",
     "output_type": "error",
     "traceback": [
      "\u001b[1;31m---------------------------------------------------------------------------\u001b[0m",
      "\u001b[1;31mNameError\u001b[0m                                 Traceback (most recent call last)",
      "\u001b[1;32m<ipython-input-13-1d50c52083b0>\u001b[0m in \u001b[0;36m<module>\u001b[1;34m\u001b[0m\n\u001b[1;32m----> 1\u001b[1;33m \u001b[0mcik_name\u001b[0m\u001b[1;33m\u001b[0m\u001b[1;33m\u001b[0m\u001b[0m\n\u001b[0m",
      "\u001b[1;31mNameError\u001b[0m: name 'cik_name' is not defined"
     ]
    }
   ],
   "source": [
    "cik_name"
   ]
  },
  {
   "cell_type": "code",
   "execution_count": 29,
   "metadata": {},
   "outputs": [
    {
     "name": "stdout",
     "output_type": "stream",
     "text": [
      "Request Successful\n",
      "https://www.sec.gov/cgi-bin/browse-edgar?action=getcompany&CIK=1265107&type=10-k&dateb=20190101&owner=exclude&start=&output=atom&count=100\n"
     ]
    }
   ],
   "source": [
    "master_list# base URL for the SEC EDGAR browser\n",
    "endpoint = r\"https://www.sec.gov/cgi-bin/browse-edgar\"\n",
    "\n",
    "# define our parameters dictionary\n",
    "param_dict = {'action':'getcompany',\n",
    "              'CIK':'1265107',\n",
    "              'type':'10-k',\n",
    "              'dateb':'20190101',\n",
    "              'owner':'exclude',\n",
    "              'start':'',\n",
    "              'output':'atom',\n",
    "              'count':'100'}\n",
    "\n",
    "# request the url, and then parse the response.\n",
    "response = requests.get(url = endpoint, params = param_dict)\n",
    "soup = BeautifulSoup(response.content, 'lxml')\n",
    "\n",
    "# Let the user know it was successful.\n",
    "print('Request Successful')\n",
    "print(response.url)"
   ]
  },
  {
   "cell_type": "code",
   "execution_count": 30,
   "metadata": {},
   "outputs": [],
   "source": [
    "# find all the entry tags\n",
    "\n",
    "endpoint = r\"https://www.sec.gov/cgi-bin/browse-edgar\"\n",
    "\n",
    "# define our parameters dictionary\n",
    "param_dict = {'action':'getcompany',\n",
    "              'CIK':'1265107',\n",
    "              'type':'10-k',\n",
    "              'dateb':'20190101',\n",
    "              'owner':'exclude',\n",
    "              'start':'',\n",
    "              'output':'atom',\n",
    "              'count':'100'}\n",
    "\n",
    "# request the url, and then parse the response.\n",
    "response = requests.get(url = endpoint, params = param_dict)\n",
    "soup = BeautifulSoup(response.content, 'lxml')\n",
    "entries = soup.find_all('entry')\n",
    "\n",
    "# initalize our list for storage\n",
    "master_list_xml = []\n",
    "\n",
    "# loop through each found entry, remember this is only the first two\n",
    "for entry in entries[0:2]:\n",
    "    \n",
    "    x=(entry.find('link')['href'])\n",
    "    soup = BeautifulSoup(requests.get(url=x).content, 'lxml')\n",
    "    doc_table=soup.find_all('table')\n",
    "    url='https://www.sec.gov/'+doc_table[0].find_all('tr')[1].find('a')['href']\n",
    "    new_soup=BeautifulSoup(requests.get(url=url).content, 'lxml')\n",
    "    m=(new_soup.get_text())\n",
    "    "
   ]
  },
  {
   "cell_type": "code",
   "execution_count": 31,
   "metadata": {},
   "outputs": [],
   "source": [
    "soup = BeautifulSoup(requests.get(url=x).content, 'lxml')\n"
   ]
  },
  {
   "cell_type": "code",
   "execution_count": 32,
   "metadata": {},
   "outputs": [],
   "source": [
    "doc_table=soup.find_all('table')"
   ]
  },
  {
   "cell_type": "code",
   "execution_count": 33,
   "metadata": {},
   "outputs": [],
   "source": [
    "url='https://www.sec.gov/'+doc_table[0].find_all('tr')[1].find('a')['href']"
   ]
  },
  {
   "cell_type": "code",
   "execution_count": null,
   "metadata": {},
   "outputs": [],
   "source": [
    "url"
   ]
  },
  {
   "cell_type": "code",
   "execution_count": 34,
   "metadata": {},
   "outputs": [],
   "source": [
    "new_soup=BeautifulSoup(requests.get(url=url).content, 'lxml')"
   ]
  },
  {
   "cell_type": "code",
   "execution_count": 35,
   "metadata": {},
   "outputs": [],
   "source": [
    "m=(new_soup.get_text())\n"
   ]
  },
  {
   "cell_type": "code",
   "execution_count": 36,
   "metadata": {},
   "outputs": [],
   "source": [
    "text_file = open(\"Output2.txt\", \"w\",encoding='utf-8')\n",
    "text_file.write(m)\n",
    "text_file.close()\n"
   ]
  },
  {
   "cell_type": "markdown",
   "metadata": {},
   "source": [
    "<b>Get S &P components"
   ]
  },
  {
   "cell_type": "code",
   "execution_count": 38,
   "metadata": {},
   "outputs": [],
   "source": [
    "pre_2000=[]\n",
    "ticker_pre_2000=[]"
   ]
  },
  {
   "cell_type": "code",
   "execution_count": 44,
   "metadata": {
    "scrolled": true
   },
   "outputs": [],
   "source": [
    "for i in range(11):\n",
    "    new=list(pd.read_excel(str(1990+i)+'.xlsx')['Name'])\n",
    "    \n",
    "    pre_2000=list(pre_2000+[i for i in new if i not in pre_2000])\n",
    "    new_ticker=list(pd.read_excel(str(1990+i)+'.xlsx')['Ticker'])\n",
    "    ticker_pre_2000=list(ticker_pre_2000+[i for i in new_ticker if i not in ticker_pre_2000])\n",
    "    "
   ]
  },
  {
   "cell_type": "markdown",
   "metadata": {},
   "source": [
    "<b>More tickers than names"
   ]
  },
  {
   "cell_type": "markdown",
   "metadata": {},
   "source": [
    "<b>Add component changes"
   ]
  },
  {
   "cell_type": "code",
   "execution_count": 45,
   "metadata": {},
   "outputs": [],
   "source": [
    "wiki = 'https://en.wikipedia.org/wiki/List_of_S%26P_500_companies'"
   ]
  },
  {
   "cell_type": "code",
   "execution_count": 46,
   "metadata": {},
   "outputs": [],
   "source": [
    "res = requests.get(wiki)\n",
    "wiki_soup = BeautifulSoup(res.content,'lxml')"
   ]
  },
  {
   "cell_type": "markdown",
   "metadata": {},
   "source": [
    "<b>Adding current S&P names"
   ]
  },
  {
   "cell_type": "code",
   "execution_count": 47,
   "metadata": {},
   "outputs": [],
   "source": [
    "current=[]\n",
    "current_ticker=[]\n",
    "\n",
    "for row in wiki_soup.find_all('table')[0].find_all('tr'):\n",
    "    cols=row.find_all('td')\n",
    "    \n",
    "    if len(cols)!=0:\n",
    "        #grab the text\n",
    "        current.append(cols[1].text.strip())\n",
    "        current_ticker.append(cols[0].text.strip())\n"
   ]
  },
  {
   "cell_type": "markdown",
   "metadata": {},
   "source": [
    "<b>Adding names between 2000 and current"
   ]
  },
  {
   "cell_type": "code",
   "execution_count": 48,
   "metadata": {},
   "outputs": [],
   "source": [
    "interim=[]\n",
    "interim_ticker=[]\n",
    "for row in wiki_soup.find_all('table')[1].find_all('tr'):\n",
    "    cols=row.find_all('td')\n",
    "    \n",
    "    if len(cols)!=0:\n",
    "        #grab the text\n",
    "        interim.append(cols[2].text.strip())\n",
    "        interim_ticker.append(cols[1].text.strip())"
   ]
  },
  {
   "cell_type": "code",
   "execution_count": 49,
   "metadata": {},
   "outputs": [],
   "source": [
    "post_2000=[i for i in interim if i not in current]"
   ]
  },
  {
   "cell_type": "code",
   "execution_count": 50,
   "metadata": {},
   "outputs": [],
   "source": [
    "ticker_post_2000=[i for i in interim_ticker if i not in current_ticker]"
   ]
  },
  {
   "cell_type": "markdown",
   "metadata": {},
   "source": [
    "Extra names because of wiki adding names with and without inc., corp. etc"
   ]
  },
  {
   "cell_type": "markdown",
   "metadata": {},
   "source": [
    "<b>Merging all "
   ]
  },
  {
   "cell_type": "markdown",
   "metadata": {},
   "source": [
    "These contain all names apart from those currently on S&P"
   ]
  },
  {
   "cell_type": "code",
   "execution_count": 51,
   "metadata": {},
   "outputs": [],
   "source": [
    "total_snp=(pre_2000+[i for i in post_2000 if i not in pre_2000])\n",
    "total_snp_ticker=(ticker_pre_2000+[i for i in ticker_post_2000 if i not in ticker_pre_2000])"
   ]
  },
  {
   "cell_type": "markdown",
   "metadata": {},
   "source": [
    "<b>Firstly find cik\n",
    "    by ticker(only for current companies)"
   ]
  },
  {
   "cell_type": "code",
   "execution_count": 52,
   "metadata": {},
   "outputs": [],
   "source": [
    "ticker_map= requests.get(\"https://www.sec.gov/include/ticker.txt\")\n",
    "\n",
    "ticker_data = ticker_map.content.split(b'\\n')\n",
    "\n",
    "ticker_data = [x.split(b'\\t') for x in ticker_data]\n",
    "\n",
    "ticker_data = {x[0].decode(encoding='latin1'): x[1].decode(encoding='latin1') for x in ticker_data if len(x)>1}"
   ]
  },
  {
   "cell_type": "code",
   "execution_count": 53,
   "metadata": {},
   "outputs": [],
   "source": [
    "df = pd.DataFrame(ticker_data, index=[\"CIK\"])\n",
    "cik_df=df.T\n",
    "except1=[]\n",
    "cik={}\n",
    "total_snp_ticker=[x[:-10] for x in total_snp_ticker]\n",
    "for ticker in total_snp_ticker:\n",
    "\n",
    "    \n",
    "    try:\n",
    "        cik[ticker]=cik_df[cik_df.index==ticker.lower()]['CIK'].iloc[0]\n",
    "    except:\n",
    "        \n",
    "        except1.append(ticker)\n",
    "        pass\n",
    "    "
   ]
  },
  {
   "cell_type": "markdown",
   "metadata": {},
   "source": [
    "<b>These are the closed companies"
   ]
  },
  {
   "cell_type": "code",
   "execution_count": 54,
   "metadata": {},
   "outputs": [],
   "source": [
    "r = requests.get(\"https://www.sec.gov/Archives/edgar/cik-lookup-data.txt\")"
   ]
  },
  {
   "cell_type": "code",
   "execution_count": 55,
   "metadata": {},
   "outputs": [],
   "source": [
    "data = r.content.split(b'\\n')\n",
    "\n",
    "data = [x.split(b':') for x in data]\n",
    "\n",
    "data = {x[0].decode(encoding='latin1'): x[1].decode(encoding='latin1') for x in data if len(x)>1}"
   ]
  },
  {
   "cell_type": "code",
   "execution_count": 56,
   "metadata": {},
   "outputs": [],
   "source": [
    "df = pd.DataFrame(data, index=[\"CIK\"])"
   ]
  },
  {
   "cell_type": "code",
   "execution_count": 57,
   "metadata": {},
   "outputs": [],
   "source": [
    "cik_name=df.T\n",
    "except2=[]"
   ]
  },
  {
   "cell_type": "code",
   "execution_count": 61,
   "metadata": {},
   "outputs": [],
   "source": [
    "def end(str1):\n",
    "    \n",
    "    x=str1.strip(' ')\n",
    "    \n",
    "    if x.endswith(' CO'):\n",
    "    \n",
    "        x = x[:-2]\n",
    "    if (str1.endswith(' COS')):   \n",
    "        x = x[:-3]\n",
    "    return x\n",
    "    "
   ]
  },
  {
   "cell_type": "code",
   "execution_count": 62,
   "metadata": {},
   "outputs": [],
   "source": [
    "except2=[]"
   ]
  },
  {
   "cell_type": "code",
   "execution_count": 63,
   "metadata": {},
   "outputs": [],
   "source": [
    "cik={}"
   ]
  },
  {
   "cell_type": "code",
   "execution_count": 64,
   "metadata": {},
   "outputs": [],
   "source": [
    "def f(strg):\n",
    "    return strg.split(\"/\")[0]"
   ]
  },
  {
   "cell_type": "code",
   "execution_count": 295,
   "metadata": {},
   "outputs": [],
   "source": [
    "sample=['OshKosh B\\'Gosh Inc','ACME-Cleveland Corp']"
   ]
  },
  {
   "cell_type": "markdown",
   "metadata": {},
   "source": [
    "<b>Formatting company names in cik lookup file"
   ]
  },
  {
   "cell_type": "code",
   "execution_count": 65,
   "metadata": {},
   "outputs": [],
   "source": [
    "\n",
    "match=cik_name.copy()\n",
    "store_index=match.index.str.upper()\n",
    "\n",
    "store_index=store_index.str.replace(\" COMPANIES\",\"\")\n",
    "store_index=store_index.str.replace(\" GROUP\",\"\")\n",
    "store_index=store_index.str.replace(\" HOLDINGS\",\"\")\n",
    "\n",
    "\n",
    "\n",
    "store_index=store_index.str.replace(\",\",\"\")\n",
    "store_index=store_index.str.replace(\"-\",\"\")\n",
    "store_index=store_index.str.replace(\".\",\"\")\n",
    "\n",
    "original_index=store_index\n",
    "match['original']=original_index\n",
    "store_index=store_index.str.replace(\" PLC\",\"\")\n",
    "store_index=store_index.str.replace(\" LTD\",\"\")\n",
    "store_index=store_index.str.replace(\" L.P.\",\"\")\n",
    "store_index=store_index.str.replace(\" INC\",\"\")\n",
    "store_index=store_index.str.replace(\" LLC\",\"\")\n",
    "\n",
    "#Remove company type\n",
    "store_index=store_index.str.replace(\" CORPORATION\", \"\")\n",
    "store_index=store_index.str.replace(\" CORP\", \"\")\n",
    "\n",
    "store_index=store_index.str.replace(\" LIMITED\",\"\")\n",
    "store_index=store_index.str.replace(\" PARTNERSHIP\",\"\")\n",
    "\n",
    "store_index=store_index.str.replace(\" LIMITED LIABILITY CO\",\"\")\n",
    "store_index=store_index.str.replace(\" UNLIMITED LIABILITY CO\",\"\")\n",
    "store_index=store_index.str.replace(\" LIMITED PARTNERSHIP\",\"\")\n",
    "store_index=store_index.str.replace(\" INCORPORATED\",\"\")\n",
    "store_index=store_index.str.replace(\" PLC\",\"\")\n",
    "store_index=store_index.str.replace(\"'\",\"\")\n",
    "#remove last Co\n",
    "store_index=list(map(f,list(store_index)))\n",
    "store_index=list(map(end,list(store_index)))\n",
    "\n",
    "store_index=[x.replace(' ','') for x in store_index]\n",
    "match['key']=store_index\n",
    "#remove everything after hyphen\n",
    "\n",
    "\n",
    "\n"
   ]
  },
  {
   "cell_type": "code",
   "execution_count": 67,
   "metadata": {},
   "outputs": [],
   "source": [
    "p=original_index.to_series()"
   ]
  },
  {
   "cell_type": "code",
   "execution_count": 68,
   "metadata": {},
   "outputs": [],
   "source": [
    "types=['LTD', 'L.P.', 'INC', 'LLC', 'LIMITED', 'CORPORATION', 'CORP', 'PLC','PARTNERSHIP', 'LIMITED LIABILITY CO','UNLIMITED LIABILITY CO','LIMITED PARTNERSHIP','INCORPORATED']"
   ]
  },
  {
   "cell_type": "code",
   "execution_count": 69,
   "metadata": {},
   "outputs": [],
   "source": [
    "double=[]    \n"
   ]
  },
  {
   "cell_type": "code",
   "execution_count": 71,
   "metadata": {},
   "outputs": [],
   "source": [
    "cik={}"
   ]
  },
  {
   "cell_type": "code",
   "execution_count": 72,
   "metadata": {},
   "outputs": [],
   "source": [
    "m=[]"
   ]
  },
  {
   "cell_type": "code",
   "execution_count": 74,
   "metadata": {},
   "outputs": [],
   "source": [
    "d=[]"
   ]
  },
  {
   "cell_type": "markdown",
   "metadata": {},
   "source": [
    "<b>For company names in total_snp match to company names in lookup data file "
   ]
  },
  {
   "cell_type": "code",
   "execution_count": 76,
   "metadata": {
    "scrolled": false
   },
   "outputs": [
    {
     "name": "stderr",
     "output_type": "stream",
     "text": [
      "C:\\Users\\shrey\\Anaconda3\\lib\\site-packages\\ipykernel_launcher.py:43: SettingWithCopyWarning: \n",
      "A value is trying to be set on a copy of a slice from a DataFrame.\n",
      "Try using .loc[row_indexer,col_indexer] = value instead\n",
      "\n",
      "See the caveats in the documentation: http://pandas.pydata.org/pandas-docs/stable/user_guide/indexing.html#returning-a-view-versus-a-copy\n",
      "C:\\Users\\shrey\\Anaconda3\\lib\\site-packages\\ipykernel_launcher.py:44: SettingWithCopyWarning: \n",
      "A value is trying to be set on a copy of a slice from a DataFrame.\n",
      "Try using .loc[row_indexer,col_indexer] = value instead\n",
      "\n",
      "See the caveats in the documentation: http://pandas.pydata.org/pandas-docs/stable/user_guide/indexing.html#returning-a-view-versus-a-copy\n"
     ]
    }
   ],
   "source": [
    "for equity in total_snp:\n",
    "    equity_type=''.join(x for x in types if x in equity.upper())\n",
    "    \n",
    "    equity = equity.translate({ord(c): None for c in ',.-'})\n",
    "    equity = equity.replace(\"'\", \"\")\n",
    "    #Remove company type\n",
    "    \n",
    "    equity = equity.replace(\"Companies\", \"\")\n",
    "    equity = equity.replace(\"Group\", \"\")\n",
    "    equity = equity.replace(\"Holdings\", \"\")  \n",
    "    equity = equity.replace(\"/The\", \"\")\n",
    "    equity = equity.split('/')[0]\n",
    "    \n",
    "    original=equity\n",
    "    \n",
    "    \n",
    "    \n",
    "    \n",
    "    equity = equity.replace(\"Corporation\", \"\")\n",
    "    equity = equity.replace(\"Corp\", \"\")\n",
    "    \n",
    "    \n",
    "    equity = equity.replace(\"Inc\", \"\")\n",
    "    equity = equity.replace(\"LLC\", \"\")\n",
    "    equity = equity.replace(\"PLC\", \"\")\n",
    "    equity = equity.replace(\"Ltd\", \"\")\n",
    "    equity = equity.replace(\"plc\", \"\")    \n",
    "    equity = equity.replace(\"  \", \"\")\n",
    "    equity = equity.replace(\" \", \"\")\n",
    "    if equity.endswith('Co'):\n",
    "        equity = equity[:-2]\n",
    "    if equity.endswith('Cos'):\n",
    "        equity = equity[:-3]\n",
    "    \n",
    "    matched_cik=match[match['key'].str.upper()==(equity.upper())]\n",
    "    if(len(matched_cik)==0):\n",
    "        d.append(equity)\n",
    "    else:\n",
    "        if(len(matched_cik['CIK'].unique())>1):\n",
    "            #go for exact match\n",
    "            try:\n",
    "\n",
    "                matched_cik['original']=matched_cik['original'].str.replace(\"  \",\"\")\n",
    "                matched_cik['original']=matched_cik['original'].str.replace(\" \",\"\")\n",
    "                original = original.replace(\" \", \"\")\n",
    "                original_match=matched_cik[matched_cik['original'].str.upper()==(original.upper())]['CIK']\n",
    "                if (len(original_match.unique())==1):\n",
    "                    cik[equity]=original_match.iloc[0]\n",
    "                elif((len(original_match.unique())>1)):\n",
    "                    double.append(equity)\n",
    "            except:\n",
    "\n",
    "                if (len(matched_cik)==0):\n",
    "                    d.append(equity)\n",
    "                else:\n",
    "             #match based on key\n",
    "                    match_cik_list=list(matched_cik.index)#list of companies name identifier\n",
    "\n",
    "                    type_firm=[''.join(x for x in types if x in y) for y in (match_cik_list)]#find type from list of company name\n",
    "                    type_firm=[x.upper() for x in type_firm]\n",
    "                    index2=type_firm.index(equity_type.upper())\n",
    "                    cik[equity]=matched_cik['CIK'].iloc[index2]\n",
    "\n",
    "\n",
    "        else:\n",
    "            match_cik=matched_cik['CIK']\n",
    "            if (len(match_cik.unique())==1):\n",
    "                cik[equity]=match_cik.iloc[0]\n",
    "            elif (len(match_cik.unique())>1):\n",
    "                double.append(equity)\n",
    "\n",
    "\n",
    "\n",
    "\n"
   ]
  },
  {
   "cell_type": "markdown",
   "metadata": {},
   "source": [
    "Note-double contains those with unresolved duplicates(with different cik)\n",
    "d contains those not found"
   ]
  },
  {
   "cell_type": "code",
   "execution_count": 82,
   "metadata": {
    "scrolled": true
   },
   "outputs": [],
   "source": [
    "cik_list=list(cik.values())"
   ]
  },
  {
   "cell_type": "code",
   "execution_count": 83,
   "metadata": {
    "scrolled": true
   },
   "outputs": [
    {
     "data": {
      "text/plain": [
       "['0000110390',\n",
       " '0000064923',\n",
       " '0000014195',\n",
       " '0000090896',\n",
       " '0000075042',\n",
       " '0000047111',\n",
       " '0001079182',\n",
       " '0000106455',\n",
       " '0000072903',\n",
       " '0000002066',\n",
       " '0000004904',\n",
       " '0000023082',\n",
       " '0000788784',\n",
       " '0001618921',\n",
       " '0000070538',\n",
       " '0000014693',\n",
       " '0001675149',\n",
       " '0000004962',\n",
       " '0000732712',\n",
       " '0000072911',\n",
       " '0000012927',\n",
       " '0001368591',\n",
       " '0000093410',\n",
       " '0000021344',\n",
       " '0001744489',\n",
       " '0000040545',\n",
       " '0000047217',\n",
       " '0000354950',\n",
       " '0000051143',\n",
       " '0000200406',\n",
       " '0000063908',\n",
       " '0000066740',\n",
       " '0001085917',\n",
       " '0000078003',\n",
       " '0000005907',\n",
       " '0000101829',\n",
       " '0000104169',\n",
       " '0000098362',\n",
       " '0000040730',\n",
       " '0001739940',\n",
       " '0000831001',\n",
       " '0000005272',\n",
       " '0001338749',\n",
       " '0000773840',\n",
       " '0000764180',\n",
       " '0000040493',\n",
       " '0000050863',\n",
       " '0000031235',\n",
       " '0001283246',\n",
       " '0000001800',\n",
       " '0000002488',\n",
       " '0000002969',\n",
       " '0000789073',\n",
       " '0000004447',\n",
       " '0000093102',\n",
       " '0000007084',\n",
       " '0000008818',\n",
       " '0000008868',\n",
       " '0000808362',\n",
       " '0001004440',\n",
       " '0000010456',\n",
       " '0000011199',\n",
       " '0000012659',\n",
       " '0000043300',\n",
       " '0000014272',\n",
       " '0000084129',\n",
       " '0000016732',\n",
       " '0000020171',\n",
       " '0000716823',\n",
       " '0001117931',\n",
       " '0000021665',\n",
       " '0000789933',\n",
       " '0000023217',\n",
       " '0000054050',\n",
       " '0001047862',\n",
       " '0001584296',\n",
       " '0000024741',\n",
       " '0000277948',\n",
       " '0000026172',\n",
       " '0000089089',\n",
       " '0000027419',\n",
       " '0000315189',\n",
       " '0000314132',\n",
       " '0000715957',\n",
       " '0000029905',\n",
       " '0000936498',\n",
       " '0001326160',\n",
       " '0001551182',\n",
       " '0000031462',\n",
       " '0000032604',\n",
       " '0001214615',\n",
       " '0001048911',\n",
       " '0000037785',\n",
       " '0000037996',\n",
       " '0000753308',\n",
       " '0000039899',\n",
       " '0000039911',\n",
       " '0000040533',\n",
       " '0000040704',\n",
       " '0000040987',\n",
       " '0000042542',\n",
       " '0000042582',\n",
       " '0000045012',\n",
       " '0000202058',\n",
       " '0000046640',\n",
       " '0000046765',\n",
       " '0000925692',\n",
       " '0001166214',\n",
       " '0000049071',\n",
       " '0000049826',\n",
       " '0001466258',\n",
       " '0000850209',\n",
       " '0000051253',\n",
       " '0000053669',\n",
       " '0000055067',\n",
       " '0000055785',\n",
       " '0001336397',\n",
       " '0000056873',\n",
       " '0000059478',\n",
       " '0000701985',\n",
       " '0000064079',\n",
       " '0000059558',\n",
       " '0000886125',\n",
       " '0000060667',\n",
       " '0000012355',\n",
       " '0000062709',\n",
       " '0000062996',\n",
       " '0000934612',\n",
       " '0000064040',\n",
       " '0001613103',\n",
       " '0000064803',\n",
       " '0000310158',\n",
       " '0000005187',\n",
       " '0000068505',\n",
       " '0000018532',\n",
       " '0000084792',\n",
       " '0000070318',\n",
       " '0000814453',\n",
       " '0001164727',\n",
       " '0000019353',\n",
       " '0000104019',\n",
       " '0000065100',\n",
       " '0000005133',\n",
       " '0000702165',\n",
       " '0000072945',\n",
       " '0000105598',\n",
       " '0000701708',\n",
       " '0000105668',\n",
       " '0000073309',\n",
       " '0001409357',\n",
       " '0000074154',\n",
       " '0000073960',\n",
       " '0001004980',\n",
       " '0000076334',\n",
       " '0001166126',\n",
       " '0000726513',\n",
       " '0000029924',\n",
       " '0001109357',\n",
       " '0000071691',\n",
       " '0001042773',\n",
       " '0000096879',\n",
       " '0000078814',\n",
       " '0000713676',\n",
       " '0000040656',\n",
       " '0000079879',\n",
       " '0000351145',\n",
       " '0000064782',\n",
       " '0000082267',\n",
       " '0000085961',\n",
       " '0000023666',\n",
       " '0000827052',\n",
       " '0000016099',\n",
       " '0000087347',\n",
       " '0000089800',\n",
       " '0000732713',\n",
       " '0000091440',\n",
       " '0000092122',\n",
       " '0000203077',\n",
       " '0000716006',\n",
       " '0000093556',\n",
       " '0000042293',\n",
       " '0001300173',\n",
       " '0000750556',\n",
       " '0000095521',\n",
       " '0000096021',\n",
       " '0000073902',\n",
       " '0000014707',\n",
       " '0000217346',\n",
       " '0000086104',\n",
       " '0000205520',\n",
       " '0001704956',\n",
       " '0000320335',\n",
       " '0000314727',\n",
       " '0000833444',\n",
       " '0000100885',\n",
       " '0000063541',\n",
       " '0000026780',\n",
       " '0000087777',\n",
       " '0000770949',\n",
       " '0000103379',\n",
       " '0001574362',\n",
       " '0000109265',\n",
       " '0000010329',\n",
       " '0000106535',\n",
       " '0000063416',\n",
       " '0001170279',\n",
       " '0000027904',\n",
       " '0000905982',\n",
       " '0000088205',\n",
       " '0000711761',\n",
       " '0000716039',\n",
       " '0001005414',\n",
       " '0000319256',\n",
       " '0000107681',\n",
       " '0001067092',\n",
       " '0001130385',\n",
       " '0000108516',\n",
       " '0000024545',\n",
       " '0000072333',\n",
       " '0000018498',\n",
       " '0000354964',\n",
       " '0000816768',\n",
       " '0000716644',\n",
       " '0000100030',\n",
       " '0000021175',\n",
       " '0000819996',\n",
       " '0001282637',\n",
       " '0000085486',\n",
       " '0000072162',\n",
       " '0000004363',\n",
       " '0000714154',\n",
       " '0001070750',\n",
       " '0000064394',\n",
       " '0000106498',\n",
       " '0000056824',\n",
       " '0000743872',\n",
       " '0000078890',\n",
       " '0000072859',\n",
       " '0000075829',\n",
       " '0000097349',\n",
       " '0000014637',\n",
       " '0000081371',\n",
       " '0001621007',\n",
       " '0000764762',\n",
       " '0000757011',\n",
       " '0000884219',\n",
       " '0000021267',\n",
       " '0000101778',\n",
       " '0001021387',\n",
       " '0001577976',\n",
       " '0000205239',\n",
       " '0000085812',\n",
       " '0000750217',\n",
       " '0000352363',\n",
       " '0000011860',\n",
       " '0000916844',\n",
       " '0000088188',\n",
       " '0000050957',\n",
       " '0000053117',\n",
       " '0000320187',\n",
       " '0001004654',\n",
       " '0000022099',\n",
       " '0000311259',\n",
       " '0000918040',\n",
       " '0000059498',\n",
       " '0000025350',\n",
       " '0000075234',\n",
       " '0000732718',\n",
       " '0000040858',\n",
       " '0000104669',\n",
       " '0000019150',\n",
       " '0001721781',\n",
       " '0000098349',\n",
       " '0000083604',\n",
       " '0000813828',\n",
       " '0000775483',\n",
       " '0000023738',\n",
       " '0000048305',\n",
       " '0000067182',\n",
       " '0000756764',\n",
       " '0000007649',\n",
       " '0000092236',\n",
       " '0000769589',\n",
       " '0000026999',\n",
       " '0000036672',\n",
       " '0000082206',\n",
       " '0000099189',\n",
       " '0000090811',\n",
       " '0000100783',\n",
       " '0000059198',\n",
       " '0001385157',\n",
       " '0000085627',\n",
       " '0000836442',\n",
       " '0000093397',\n",
       " '0000077320',\n",
       " '0000317745',\n",
       " '0000007383',\n",
       " '0000094610',\n",
       " '0000040834',\n",
       " '0000070040',\n",
       " '0000009672',\n",
       " '0000878736',\n",
       " '0000041289',\n",
       " '0000031348',\n",
       " '0000008960',\n",
       " '0000790528',\n",
       " '0000030419',\n",
       " '0000028887',\n",
       " '0000075527',\n",
       " '0000086135',\n",
       " '0000354396',\n",
       " '0000010012',\n",
       " '0000948086',\n",
       " '0001040441',\n",
       " '0000936340',\n",
       " '0000097476',\n",
       " '0000200245',\n",
       " '0000060512',\n",
       " '0000094887',\n",
       " '0000315180',\n",
       " '0000033015',\n",
       " '0000072020',\n",
       " '0000063917',\n",
       " '0000732714',\n",
       " '0001094093',\n",
       " '0000043512',\n",
       " '0000216228',\n",
       " '0000070530',\n",
       " '0000351696',\n",
       " '0000102420',\n",
       " '0000096289',\n",
       " '0000897732',\n",
       " '0000068361',\n",
       " '0000037748',\n",
       " '0000732716',\n",
       " '0000355622',\n",
       " '0000003449',\n",
       " '0000009435',\n",
       " '0000823549',\n",
       " '0000022764',\n",
       " '0000065011',\n",
       " '0000075149',\n",
       " '0000046080',\n",
       " '0001024478',\n",
       " '0000063118',\n",
       " '0000096935',\n",
       " '0000800575',\n",
       " '0000019489',\n",
       " '0000105982',\n",
       " '0000025506',\n",
       " '0000034891',\n",
       " '0000036161',\n",
       " '0000823393',\n",
       " '0000109446',\n",
       " '0000018366',\n",
       " '0000102237',\n",
       " '0000036537',\n",
       " '0000795266',\n",
       " '0000732639',\n",
       " 'METRICS INC',\n",
       " '0000109710',\n",
       " '0000024011',\n",
       " '0000060026',\n",
       " '0000897599',\n",
       " '0001284721',\n",
       " '0000724176',\n",
       " '0000277821',\n",
       " '0000029669',\n",
       " '0001163165',\n",
       " '0000829966',\n",
       " '0000041130',\n",
       " '0000100517',\n",
       " '0000096000',\n",
       " '0000044279',\n",
       " '0000059880',\n",
       " '0000099429',\n",
       " '0000044482',\n",
       " '0000070047',\n",
       " '0001674862',\n",
       " '0000046989',\n",
       " '0000060195',\n",
       " '0000080293',\n",
       " '0000746838',\n",
       " '0000318771',\n",
       " '0000764898',\n",
       " '0000028917',\n",
       " '0000008670',\n",
       " '0000310522',\n",
       " '0000012978',\n",
       " '0000014930',\n",
       " '0000356028',\n",
       " '0000104599',\n",
       " '0000731939',\n",
       " '0001617406',\n",
       " '0001023291',\n",
       " '0000808450',\n",
       " '0000060519',\n",
       " '0000320193',\n",
       " '0000769397',\n",
       " '0001341439',\n",
       " '0000075362',\n",
       " '0000053347',\n",
       " '0000041499',\n",
       " '0001313900',\n",
       " '0000027996',\n",
       " '0000050341',\n",
       " '0000708819',\n",
       " '0000858339',\n",
       " '0001290087',\n",
       " '0000024491',\n",
       " '0000077449',\n",
       " '0000069952',\n",
       " '0000351346',\n",
       " '0000763739',\n",
       " '0000919092',\n",
       " '0000722080',\n",
       " '0000710979',\n",
       " '0000105634',\n",
       " '0000004310',\n",
       " '0000100826',\n",
       " '0000040454',\n",
       " '0001163302',\n",
       " '0000014920',\n",
       " '0000043362',\n",
       " '0000099231',\n",
       " '0001414763',\n",
       " '0001026214',\n",
       " '0000318154',\n",
       " '0001578845',\n",
       " '0000884905',\n",
       " '0000041388',\n",
       " '0000870517',\n",
       " '0000101788',\n",
       " '0000756894',\n",
       " '0000833320',\n",
       " '0000078716',\n",
       " '0000818687',\n",
       " '0000895421',\n",
       " '0000915389',\n",
       " '0000858877',\n",
       " '0001393231',\n",
       " '0000921754',\n",
       " '0000789019',\n",
       " '0000813828',\n",
       " '0000069970',\n",
       " '0000065873',\n",
       " '0000092380',\n",
       " '0000899652',\n",
       " '0000731766',\n",
       " '0000795581',\n",
       " '0000904255',\n",
       " '0000913340',\n",
       " '0000723125',\n",
       " '0001167381',\n",
       " '0000883980',\n",
       " '0000711405',\n",
       " '0000107189',\n",
       " '0001390777',\n",
       " '0000885725',\n",
       " '0000028412',\n",
       " '0000062348',\n",
       " '0001053303',\n",
       " '0000794367',\n",
       " '0000723612',\n",
       " '0000060086',\n",
       " '0000703360',\n",
       " '0000922224',\n",
       " '0000040779',\n",
       " '0000846909',\n",
       " '0000899051',\n",
       " '0000802301',\n",
       " '0000732718',\n",
       " '0000949573',\n",
       " '0000936468',\n",
       " '0000737874',\n",
       " '0000940944',\n",
       " '0000874766',\n",
       " '0001163976',\n",
       " '0000317771',\n",
       " '0000315293',\n",
       " '0001024725',\n",
       " '0000929987',\n",
       " '0001570992',\n",
       " '0000922321',\n",
       " '0000771498',\n",
       " '0001018963',\n",
       " '0000890175',\n",
       " '0000891104',\n",
       " '0000814585',\n",
       " '0000876437',\n",
       " '0001008654',\n",
       " '0000790070',\n",
       " '0000354952',\n",
       " '0000738076',\n",
       " '0001024478',\n",
       " '0000876516',\n",
       " '0001019876',\n",
       " '0001045309',\n",
       " '0000826083',\n",
       " '0000035527',\n",
       " '0000773910',\n",
       " '0000006769',\n",
       " '0000866787',\n",
       " '0000033185',\n",
       " '0000933136',\n",
       " '0000029989',\n",
       " '0000739708',\n",
       " '0000025191',\n",
       " '0000080661',\n",
       " '0001434523',\n",
       " '0000092230',\n",
       " '0000097745',\n",
       " '0001035713',\n",
       " '0000721371',\n",
       " '0001224608',\n",
       " '0000093751',\n",
       " '0001342761',\n",
       " '0000084567',\n",
       " '0000310377',\n",
       " '0001031296',\n",
       " '0000018349',\n",
       " '0000812074',\n",
       " '0000796343',\n",
       " '0000319201',\n",
       " '0000020286',\n",
       " '0000857005',\n",
       " '0000785161',\n",
       " '0001002910',\n",
       " '0000755230',\n",
       " '0000086144',\n",
       " '0000895812',\n",
       " '0000824169',\n",
       " '0000875570',\n",
       " '0001281761',\n",
       " '0000847903',\n",
       " '0001004858',\n",
       " '0000064907',\n",
       " '0000921146',\n",
       " '0000088204',\n",
       " '0001032033',\n",
       " '0000073124',\n",
       " '0000835729',\n",
       " '0000815097',\n",
       " '0001650107',\n",
       " '0000768835',\n",
       " '0000038777',\n",
       " '0000885639',\n",
       " '0001478242',\n",
       " '0000835541',\n",
       " '0000029534',\n",
       " '0000874761',\n",
       " '0000100893',\n",
       " '0000007974',\n",
       " '0000927628',\n",
       " '0001043273',\n",
       " '0000905036',\n",
       " '0001059556',\n",
       " '0000723531',\n",
       " '0000791519',\n",
       " '0000859014',\n",
       " '0000709804',\n",
       " '0000004977',\n",
       " '0000006281',\n",
       " '0000764478',\n",
       " '0000054480',\n",
       " '0000018926',\n",
       " '0000811156',\n",
       " '0001066107',\n",
       " '0000058492',\n",
       " '0000848865',\n",
       " '0000764622',\n",
       " '0000097210',\n",
       " '0001396009',\n",
       " '0000092081',\n",
       " '0000919623',\n",
       " '0001066806',\n",
       " '0000074091',\n",
       " '0000746969',\n",
       " '0000357261',\n",
       " '0001030048',\n",
       " '0000927653',\n",
       " '0000800240',\n",
       " '0001089976',\n",
       " '0001451505',\n",
       " '0000070866',\n",
       " '0000789205',\n",
       " '0000067472',\n",
       " '0000886158',\n",
       " '0000804328',\n",
       " '0001214556',\n",
       " '0000743988',\n",
       " '0001002047',\n",
       " '0000877890',\n",
       " '0000894264',\n",
       " '0000900075',\n",
       " '0001175454',\n",
       " '0001418091',\n",
       " '0001408198',\n",
       " '0000906709',\n",
       " '0001111928',\n",
       " '0001478242',\n",
       " '0001685040',\n",
       " '0001097149',\n",
       " '0001013462',\n",
       " '0001095073',\n",
       " '0000720005',\n",
       " '0000883241',\n",
       " '0001374310',\n",
       " '0001024305',\n",
       " '0001144215',\n",
       " '0001403568',\n",
       " '0000859737',\n",
       " '0001593547',\n",
       " '0001646383',\n",
       " '0000100517',\n",
       " '0000832988',\n",
       " '0001637459',\n",
       " '0001629995',\n",
       " '0001190248',\n",
       " '0001620546',\n",
       " '0001359841',\n",
       " '0000004127',\n",
       " '0001593034',\n",
       " '0000884887',\n",
       " '0000352915',\n",
       " '0001567892',\n",
       " '0001004434',\n",
       " '0001441634',\n",
       " '0001336917',\n",
       " '0001593538',\n",
       " '0000920522',\n",
       " '0000909954',\n",
       " '0001326801',\n",
       " '0000040626',\n",
       " '0001530721',\n",
       " '0000875320',\n",
       " '0000912242',\n",
       " '0001551152',\n",
       " '0001521332',\n",
       " '0000863157',\n",
       " '0001546640',\n",
       " '0000883569',\n",
       " '0001518832',\n",
       " '0000908255',\n",
       " '0000820096',\n",
       " '0000935703',\n",
       " '0001004155',\n",
       " '0001510295',\n",
       " '0001310243',\n",
       " '0001385187',\n",
       " '0000801898',\n",
       " '0000784681',\n",
       " '0001048695',\n",
       " '0000912750',\n",
       " '0000833444',\n",
       " '0001108827',\n",
       " '0001170010',\n",
       " '0000804753',\n",
       " '0001075531',\n",
       " '0000804212',\n",
       " '0000048465',\n",
       " '0000740260',\n",
       " '0001424847',\n",
       " '0000096223',\n",
       " '0000885721',\n",
       " '0000896878',\n",
       " '0000278352',\n",
       " '0000003673',\n",
       " '0000874501']"
      ]
     },
     "execution_count": 83,
     "metadata": {},
     "output_type": "execute_result"
    }
   ],
   "source": [
    "cik_list"
   ]
  },
  {
   "cell_type": "code",
   "execution_count": 86,
   "metadata": {
    "scrolled": true
   },
   "outputs": [
    {
     "data": {
      "text/plain": [
       "['HarcourtBraceJovanovich',\n",
       " 'JPMorgan&',\n",
       " 'CRBard',\n",
       " 'BectonDickinsonand',\n",
       " 'SiemensMedicalSolutionsHealthService',\n",
       " 'Pacifi',\n",
       " 'KomatsuMining',\n",
       " 'EMDMillipore',\n",
       " 'WmWrigleyJr',\n",
       " 'Pepsi',\n",
       " 'CommonwealthGeneral',\n",
       " 'Sholand',\n",
       " 'XPOCNW',\n",
       " 'ETCSunoco',\n",
       " 'CommScopeTechnologies',\n",
       " 'BASFCatalysts',\n",
       " 'XMH1',\n",
       " 'FCLiquidating',\n",
       " 'RioTintoAlcan',\n",
       " 'ValeCanada',\n",
       " 'NestlePurinaPetCare',\n",
       " 'AIGLife',\n",
       " 'NielsenAudio',\n",
       " 'SecurityPacific',\n",
       " 'ManufacturersHanover',\n",
       " 'Cross&Trecker',\n",
       " 'SovranFinancial',\n",
       " 'Norton',\n",
       " 'RicohUSA',\n",
       " 'AT&TTeleholdings',\n",
       " 'DeutscheBankTrust',\n",
       " 'MooreCanada',\n",
       " 'HFAhmanson&',\n",
       " 'DIIIndustries',\n",
       " 'JohnHHarland',\n",
       " 'FujitsuIT',\n",
       " 'UniversalStudios',\n",
       " 'LockheedMartinTacticalSystems',\n",
       " 'CapitalCities',\n",
       " 'FirstFidelity',\n",
       " 'KimberlyClarkTissue',\n",
       " 'RaytheonESystems',\n",
       " 'XIK',\n",
       " 'GetronicsWang',\n",
       " 'NCROld',\n",
       " 'SchneiderElectricUSA',\n",
       " 'Tonka',\n",
       " 'PhilipsIndustries',\n",
       " 'GreatNorthernNekoosa',\n",
       " 'ABBInstallationProducts',\n",
       " 'DevonSFSOperating',\n",
       " 'C&S',\n",
       " 'MicroFocusSoftware',\n",
       " 'OracleAmerica',\n",
       " 'Sodexo',\n",
       " 'HostHolding',\n",
       " 'NokiaofAmerica',\n",
       " 'WorldComWorldCom',\n",
       " 'ARRISTechnology',\n",
       " 'SAFGRetirementServices',\n",
       " 'Yum!Brands',\n",
       " 'PerspectaEnterpriseSolutions',\n",
       " 'SprintPCS',\n",
       " 'AmSouthBancorp',\n",
       " 'DPH',\n",
       " 'Yahoo!SetupforFundamentalPurp',\n",
       " 'CommScopeConnectivity',\n",
       " 'AOSmith',\n",
       " 'ComcastClassKSpecial',\n",
       " 'TwentyFirstCenturyFoxClassB',\n",
       " 'NewsClassB',\n",
       " '21stCenturyFox',\n",
       " 'Ensco(nowValaris']"
      ]
     },
     "execution_count": 86,
     "metadata": {},
     "output_type": "execute_result"
    }
   ],
   "source": [
    "d"
   ]
  },
  {
   "cell_type": "code",
   "execution_count": 705,
   "metadata": {},
   "outputs": [
    {
     "data": {
      "text/plain": [
       "['Capital Cities/ABC Inc']"
      ]
     },
     "execution_count": 705,
     "metadata": {},
     "output_type": "execute_result"
    }
   ],
   "source": [
    "[s for s in total_snp if 'Capital Cities' in s]\n"
   ]
  },
  {
   "cell_type": "code",
   "execution_count": 706,
   "metadata": {},
   "outputs": [
    {
     "data": {
      "text/html": [
       "<div>\n",
       "<style scoped>\n",
       "    .dataframe tbody tr th:only-of-type {\n",
       "        vertical-align: middle;\n",
       "    }\n",
       "\n",
       "    .dataframe tbody tr th {\n",
       "        vertical-align: top;\n",
       "    }\n",
       "\n",
       "    .dataframe thead th {\n",
       "        text-align: right;\n",
       "    }\n",
       "</style>\n",
       "<table border=\"1\" class=\"dataframe\">\n",
       "  <thead>\n",
       "    <tr style=\"text-align: right;\">\n",
       "      <th></th>\n",
       "      <th>CIK</th>\n",
       "    </tr>\n",
       "  </thead>\n",
       "  <tbody>\n",
       "    <tr>\n",
       "      <td>CAPITAL CITIES ABC INC /NY/</td>\n",
       "      <td>0000017109</td>\n",
       "    </tr>\n",
       "    <tr>\n",
       "      <td>CAPITAL CITIES ASSET MANAGEMENT INC</td>\n",
       "      <td>0001120270</td>\n",
       "    </tr>\n",
       "    <tr>\n",
       "      <td>CAPITAL CITIES FUND, LLC</td>\n",
       "      <td>0001640613</td>\n",
       "    </tr>\n",
       "  </tbody>\n",
       "</table>\n",
       "</div>"
      ],
      "text/plain": [
       "                                            CIK\n",
       "CAPITAL CITIES ABC INC /NY/          0000017109\n",
       "CAPITAL CITIES ASSET MANAGEMENT INC  0001120270\n",
       "CAPITAL CITIES FUND, LLC             0001640613"
      ]
     },
     "execution_count": 706,
     "metadata": {},
     "output_type": "execute_result"
    }
   ],
   "source": [
    "cik_name[cik_name.index.str.contains('Capital Cities'.upper())]"
   ]
  },
  {
   "cell_type": "code",
   "execution_count": null,
   "metadata": {},
   "outputs": [],
   "source": [
    "AND\n",
    "DICT\n",
    "USA\n",
    "same cik\n",
    "first name inc\n",
    "group\n",
    "combinations"
   ]
  },
  {
   "cell_type": "code",
   "execution_count": 274,
   "metadata": {
    "scrolled": true
   },
   "outputs": [],
   "source": [
    "match['Name']=match.index"
   ]
  },
  {
   "cell_type": "code",
   "execution_count": 415,
   "metadata": {},
   "outputs": [],
   "source": [
    "x=list(match.index)"
   ]
  },
  {
   "cell_type": "code",
   "execution_count": 657,
   "metadata": {
    "scrolled": true
   },
   "outputs": [
    {
     "data": {
      "text/plain": [
       "['Exxon Mobil Corp']"
      ]
     },
     "execution_count": 657,
     "metadata": {},
     "output_type": "execute_result"
    }
   ],
   "source": [
    "[s for s in total_snp if 'Exxon' in s]\n",
    "cik_name[cik_name.index.str.contains('TripAdvisor'.upper())]"
   ]
  },
  {
   "cell_type": "code",
   "execution_count": 640,
   "metadata": {
    "scrolled": true
   },
   "outputs": [
    {
     "data": {
      "text/html": [
       "<div>\n",
       "<style scoped>\n",
       "    .dataframe tbody tr th:only-of-type {\n",
       "        vertical-align: middle;\n",
       "    }\n",
       "\n",
       "    .dataframe tbody tr th {\n",
       "        vertical-align: top;\n",
       "    }\n",
       "\n",
       "    .dataframe thead th {\n",
       "        text-align: right;\n",
       "    }\n",
       "</style>\n",
       "<table border=\"1\" class=\"dataframe\">\n",
       "  <thead>\n",
       "    <tr style=\"text-align: right;\">\n",
       "      <th></th>\n",
       "      <th>CIK</th>\n",
       "    </tr>\n",
       "  </thead>\n",
       "  <tbody>\n",
       "    <tr>\n",
       "      <td>LIBERTY TRIPADVISOR HOLDINGS, INC.</td>\n",
       "      <td>0001606745</td>\n",
       "    </tr>\n",
       "    <tr>\n",
       "      <td>TRIPADVISOR BUSINESS TRUST</td>\n",
       "      <td>0001387337</td>\n",
       "    </tr>\n",
       "    <tr>\n",
       "      <td>TRIPADVISOR HOLDINGS, LLC</td>\n",
       "      <td>0001387337</td>\n",
       "    </tr>\n",
       "    <tr>\n",
       "      <td>TRIPADVISOR INC</td>\n",
       "      <td>0001123970</td>\n",
       "    </tr>\n",
       "    <tr>\n",
       "      <td>TRIPADVISOR LLC</td>\n",
       "      <td>0001387338</td>\n",
       "    </tr>\n",
       "    <tr>\n",
       "      <td>TRIPADVISOR, INC.</td>\n",
       "      <td>0001526520</td>\n",
       "    </tr>\n",
       "  </tbody>\n",
       "</table>\n",
       "</div>"
      ],
      "text/plain": [
       "                                           CIK\n",
       "LIBERTY TRIPADVISOR HOLDINGS, INC.  0001606745\n",
       "TRIPADVISOR BUSINESS TRUST          0001387337\n",
       "TRIPADVISOR HOLDINGS, LLC           0001387337\n",
       "TRIPADVISOR INC                     0001123970\n",
       "TRIPADVISOR LLC                     0001387338\n",
       "TRIPADVISOR, INC.                   0001526520"
      ]
     },
     "execution_count": 640,
     "metadata": {},
     "output_type": "execute_result"
    }
   ],
   "source": []
  },
  {
   "cell_type": "code",
   "execution_count": 275,
   "metadata": {},
   "outputs": [
    {
     "data": {
      "text/html": [
       "<div>\n",
       "<style scoped>\n",
       "    .dataframe tbody tr th:only-of-type {\n",
       "        vertical-align: middle;\n",
       "    }\n",
       "\n",
       "    .dataframe tbody tr th {\n",
       "        vertical-align: top;\n",
       "    }\n",
       "\n",
       "    .dataframe thead th {\n",
       "        text-align: right;\n",
       "    }\n",
       "</style>\n",
       "<table border=\"1\" class=\"dataframe\">\n",
       "  <thead>\n",
       "    <tr style=\"text-align: right;\">\n",
       "      <th></th>\n",
       "      <th>CIK</th>\n",
       "      <th>Name</th>\n",
       "    </tr>\n",
       "  </thead>\n",
       "  <tbody>\n",
       "    <tr>\n",
       "      <td>CPGJPMORGANALTERNATIVESTRATEGIESFUND</td>\n",
       "      <td>0001498178</td>\n",
       "      <td>CPGJPMORGANALTERNATIVESTRATEGIESFUND</td>\n",
       "    </tr>\n",
       "    <tr>\n",
       "      <td>CPGJPMORGANALTERNATIVESTRATEGIESFUND</td>\n",
       "      <td>0001498178</td>\n",
       "      <td>CPGJPMORGANALTERNATIVESTRATEGIESFUND</td>\n",
       "    </tr>\n",
       "    <tr>\n",
       "      <td>JPMORGANACCEPTANCEIMORTGAGETRUST2003A1</td>\n",
       "      <td>0001268604</td>\n",
       "      <td>JPMORGANACCEPTANCEIMORTGAGETRUST2003A1</td>\n",
       "    </tr>\n",
       "    <tr>\n",
       "      <td>JPMORGANACCEPTANCEI</td>\n",
       "      <td>0001085309</td>\n",
       "      <td>JPMORGANACCEPTANCEI</td>\n",
       "    </tr>\n",
       "    <tr>\n",
       "      <td>JPMORGANADVISORS</td>\n",
       "      <td>0001099485</td>\n",
       "      <td>JPMORGANADVISORS</td>\n",
       "    </tr>\n",
       "    <tr>\n",
       "      <td>...</td>\n",
       "      <td>...</td>\n",
       "      <td>...</td>\n",
       "    </tr>\n",
       "    <tr>\n",
       "      <td>STRATS(SM)TRUSTFORJPMORGANCHASECAPITALXVIISECURITIESSERIES20055</td>\n",
       "      <td>0001342154</td>\n",
       "      <td>STRATS(SM)TRUSTFORJPMORGANCHASECAPITALXVIISECU...</td>\n",
       "    </tr>\n",
       "    <tr>\n",
       "      <td>STRATSSMFORJPMORGANCHASE&amp;COSECSERIES200413</td>\n",
       "      <td>0001304707</td>\n",
       "      <td>STRATSSMFORJPMORGANCHASE&amp;COSECSERIES200413</td>\n",
       "    </tr>\n",
       "    <tr>\n",
       "      <td>STRATSSMTRUSTFORJPMORGANCHASE&amp;COSECSERIES20049</td>\n",
       "      <td>0001297210</td>\n",
       "      <td>STRATSSMTRUSTFORJPMORGANCHASE&amp;COSECSERIES20049</td>\n",
       "    </tr>\n",
       "    <tr>\n",
       "      <td>STRATSSMTRUSTFORJPMORGANCHASECAPITALXVII&amp;COSECSERIES20052</td>\n",
       "      <td>0001336178</td>\n",
       "      <td>STRATSSMTRUSTFORJPMORGANCHASECAPITALXVII&amp;COSEC...</td>\n",
       "    </tr>\n",
       "    <tr>\n",
       "      <td>STRATS(SM)TRUSTFORJPMORGANCHASECAPITALXVIISECURITIESSERIES20052</td>\n",
       "      <td>0001336178</td>\n",
       "      <td>STRATS(SM)TRUSTFORJPMORGANCHASECAPITALXVIISECU...</td>\n",
       "    </tr>\n",
       "  </tbody>\n",
       "</table>\n",
       "<p>557 rows × 2 columns</p>\n",
       "</div>"
      ],
      "text/plain": [
       "                                                           CIK  \\\n",
       "CPGJPMORGANALTERNATIVESTRATEGIESFUND                0001498178   \n",
       "CPGJPMORGANALTERNATIVESTRATEGIESFUND                0001498178   \n",
       "JPMORGANACCEPTANCEIMORTGAGETRUST2003A1              0001268604   \n",
       "JPMORGANACCEPTANCEI                                 0001085309   \n",
       "JPMORGANADVISORS                                    0001099485   \n",
       "...                                                        ...   \n",
       "STRATS(SM)TRUSTFORJPMORGANCHASECAPITALXVIISECUR...  0001342154   \n",
       "STRATSSMFORJPMORGANCHASE&COSECSERIES200413          0001304707   \n",
       "STRATSSMTRUSTFORJPMORGANCHASE&COSECSERIES20049      0001297210   \n",
       "STRATSSMTRUSTFORJPMORGANCHASECAPITALXVII&COSECS...  0001336178   \n",
       "STRATS(SM)TRUSTFORJPMORGANCHASECAPITALXVIISECUR...  0001336178   \n",
       "\n",
       "                                                                                                 Name  \n",
       "CPGJPMORGANALTERNATIVESTRATEGIESFUND                             CPGJPMORGANALTERNATIVESTRATEGIESFUND  \n",
       "CPGJPMORGANALTERNATIVESTRATEGIESFUND                             CPGJPMORGANALTERNATIVESTRATEGIESFUND  \n",
       "JPMORGANACCEPTANCEIMORTGAGETRUST2003A1                         JPMORGANACCEPTANCEIMORTGAGETRUST2003A1  \n",
       "JPMORGANACCEPTANCEI                                                               JPMORGANACCEPTANCEI  \n",
       "JPMORGANADVISORS                                                                     JPMORGANADVISORS  \n",
       "...                                                                                               ...  \n",
       "STRATS(SM)TRUSTFORJPMORGANCHASECAPITALXVIISECUR...  STRATS(SM)TRUSTFORJPMORGANCHASECAPITALXVIISECU...  \n",
       "STRATSSMFORJPMORGANCHASE&COSECSERIES200413                 STRATSSMFORJPMORGANCHASE&COSECSERIES200413  \n",
       "STRATSSMTRUSTFORJPMORGANCHASE&COSECSERIES20049         STRATSSMTRUSTFORJPMORGANCHASE&COSECSERIES20049  \n",
       "STRATSSMTRUSTFORJPMORGANCHASECAPITALXVII&COSECS...  STRATSSMTRUSTFORJPMORGANCHASECAPITALXVII&COSEC...  \n",
       "STRATS(SM)TRUSTFORJPMORGANCHASECAPITALXVIISECUR...  STRATS(SM)TRUSTFORJPMORGANCHASECAPITALXVIISECU...  \n",
       "\n",
       "[557 rows x 2 columns]"
      ]
     },
     "execution_count": 275,
     "metadata": {},
     "output_type": "execute_result"
    }
   ],
   "source": [
    "match[match['Name'].str.contains('WalgreensBootsAlliance'.upper())]"
   ]
  },
  {
   "cell_type": "code",
   "execution_count": null,
   "metadata": {},
   "outputs": [],
   "source": [
    "group\n",
    "ending with co cos\n",
    "conatins\n",
    "USA\n",
    "Holdings\n"
   ]
  },
  {
   "cell_type": "markdown",
   "metadata": {},
   "source": [
    "<b>Since only have names of companies which have closed"
   ]
  },
  {
   "cell_type": "code",
   "execution_count": null,
   "metadata": {},
   "outputs": [],
   "source": [
    "def cik(company_name):\n",
    "    url_company_name='https://www.sec.gov/cgi-bin/browse-edgar?company='+company_name+'&match=contains&action=getcompany'\n",
    "    response = requests.get(url = url_company_name)\n",
    "    soup = BeautifulSoup(response.content, 'lxml')\n",
    "    link=soup.find_all('a')[4]['href']\n",
    "    start=link.index('&CIK=')+5\n",
    "    end=link.index('&type=')\n",
    "    cik=link[start:end]\n",
    "    return(cik)"
   ]
  },
  {
   "cell_type": "code",
   "execution_count": 241,
   "metadata": {},
   "outputs": [],
   "source": [
    "resp=requests.get(url='https://www.sec.gov/files/company_tickers.json')"
   ]
  },
  {
   "cell_type": "markdown",
   "metadata": {},
   "source": [
    "<b>Form batch query"
   ]
  },
  {
   "cell_type": "code",
   "execution_count": 65,
   "metadata": {},
   "outputs": [],
   "source": [
    "r=pd.read_json(resp.content)"
   ]
  },
  {
   "cell_type": "code",
   "execution_count": 66,
   "metadata": {},
   "outputs": [],
   "source": [
    "r=r.T"
   ]
  },
  {
   "cell_type": "code",
   "execution_count": 67,
   "metadata": {},
   "outputs": [
    {
     "data": {
      "text/plain": [
       "(13567, 3)"
      ]
     },
     "execution_count": 67,
     "metadata": {},
     "output_type": "execute_result"
    }
   ],
   "source": [
    "r.shape"
   ]
  },
  {
   "cell_type": "code",
   "execution_count": 68,
   "metadata": {},
   "outputs": [
    {
     "data": {
      "text/html": [
       "<div>\n",
       "<style scoped>\n",
       "    .dataframe tbody tr th:only-of-type {\n",
       "        vertical-align: middle;\n",
       "    }\n",
       "\n",
       "    .dataframe tbody tr th {\n",
       "        vertical-align: top;\n",
       "    }\n",
       "\n",
       "    .dataframe thead th {\n",
       "        text-align: right;\n",
       "    }\n",
       "</style>\n",
       "<table border=\"1\" class=\"dataframe\">\n",
       "  <thead>\n",
       "    <tr style=\"text-align: right;\">\n",
       "      <th></th>\n",
       "      <th>cik_str</th>\n",
       "      <th>ticker</th>\n",
       "      <th>title</th>\n",
       "    </tr>\n",
       "  </thead>\n",
       "  <tbody>\n",
       "    <tr>\n",
       "      <td>217</td>\n",
       "      <td>19617</td>\n",
       "      <td>JPM</td>\n",
       "      <td>JPMORGAN CHASE &amp; CO</td>\n",
       "    </tr>\n",
       "    <tr>\n",
       "      <td>218</td>\n",
       "      <td>19617</td>\n",
       "      <td>JPMWS</td>\n",
       "      <td>JPMORGAN CHASE &amp; CO</td>\n",
       "    </tr>\n",
       "    <tr>\n",
       "      <td>11759</td>\n",
       "      <td>1523404</td>\n",
       "      <td>JPEP</td>\n",
       "      <td>JP Energy Partners LP</td>\n",
       "    </tr>\n",
       "  </tbody>\n",
       "</table>\n",
       "</div>"
      ],
      "text/plain": [
       "       cik_str ticker                  title\n",
       "217      19617    JPM    JPMORGAN CHASE & CO\n",
       "218      19617  JPMWS    JPMORGAN CHASE & CO\n",
       "11759  1523404   JPEP  JP Energy Partners LP"
      ]
     },
     "execution_count": 68,
     "metadata": {},
     "output_type": "execute_result"
    }
   ],
   "source": [
    "r[r['title'].str.contains('JP')]"
   ]
  },
  {
   "cell_type": "code",
   "execution_count": 114,
   "metadata": {},
   "outputs": [],
   "source": [
    "cik={}"
   ]
  },
  {
   "cell_type": "code",
   "execution_count": 70,
   "metadata": {},
   "outputs": [],
   "source": [
    "import re"
   ]
  },
  {
   "cell_type": "markdown",
   "metadata": {},
   "source": [
    "<b>Finding ciks for all equities"
   ]
  },
  {
   "cell_type": "code",
   "execution_count": 115,
   "metadata": {},
   "outputs": [],
   "source": [
    "except1=[]"
   ]
  },
  {
   "cell_type": "code",
   "execution_count": 314,
   "metadata": {},
   "outputs": [],
   "source": [
    "\n",
    "match=cik_name.copy()\n",
    "\n",
    "match.index=match.index.str.upper()\n",
    "match.index=match.index.str.replace(\"LTD\",\"\")\n",
    "match.index=match.index.str.replace(\"LP\",\"\")\n",
    "match.index=match.index.str.replace(\"INC\",\"\")\n",
    "match.index=match.index.str.replace(\"LLC\",\"\")\n",
    "\n",
    "#Remove company type\n",
    "match.index=match.index.str.replace(\"CORPORATION\", \"\")\n",
    "match.index=match.index.str.replace(\"CORP\", \"\")\n",
    "match.index=match.index.str.replace(\"CO\", \"\")\n",
    "match.index=match.index.str.replace(\"LIMITED\",\"\")\n",
    "match.index=match.index.str.replace(\"PARTNERSHIP\",\"\")\n",
    "match.index=match.index.str.replace(\"L.P.\",\"\")\n",
    "match.index=match.index.str.replace(\"LTD.\",\"\")\n",
    "match.index=match.index.str.replace(\"LIMITED LIABILITY CO\",\"\")\n",
    "match.index=match.index.str.replace(\"UNLIMITED LIABILITY CO\",\"\")\n",
    "match.index=match.index.str.replace(\"LIMITED PARTNERSHIP\",\"\")\n",
    "match.index=match.index.str.replace(\"INCORPORATED\",\"\")\n",
    "match.index=match.index.str.replace(\"PLC\",\"\")\n",
    "match.index=match.index.str.replace(\",\",\"\")\n",
    "match.index=match.index.str.replace(\"-\",\"\")\n",
    "match.index=match.index.str.replace(\".\",\"\")\n",
    "match.index=match.index.str.replace(\"'\",\"\")\n",
    "match.index=match.index.str.replace(\" \",\"\")\n",
    "\n",
    "\n",
    "for equity in total_snp:\n",
    "    \n",
    "    \n",
    "    equity = equity.translate({ord(c): None for c in ',.-'})\n",
    "    equity = equity.replace(\"'\", \"\")\n",
    "    #Remove company type\n",
    "    equity = equity.replace(\"Corporation\", \"\")\n",
    "    equity = equity.replace(\"Corp\", \"\")\n",
    "    equity = equity.replace(\"Co\", \"\")\n",
    "    equity = equity.replace(\"Inc\", \"\")\n",
    "    equity = equity.replace(\"LLC\", \"\")\n",
    "    equity = equity.replace(\"PLC\", \"\")\n",
    "    equity = equity.replace(\"Ltd\", \"\")\n",
    "    equity = equity.replace(\"/The\", \"\")\n",
    "    equity = equity.replace(\"  \", \"\")\n",
    "    equity = equity.replace(\" \", \"\")\n",
    "    \n",
    "    \n",
    "    \n",
    "    try:\n",
    "        cik[equity]=match[match['title'].str.upper()==(equity.upper())]['cik_str'].iloc[0]\n",
    "    except:\n",
    "        except1.append(equity)\n",
    "        pass"
   ]
  },
  {
   "cell_type": "code",
   "execution_count": 315,
   "metadata": {},
   "outputs": [
    {
     "data": {
      "text/plain": [
       "{'UN': '110390',\n",
       " 'BGG': '14195',\n",
       " 'SKY': '90896',\n",
       " 'GOSHA': '75042',\n",
       " 'HSY': '47111',\n",
       " 'XEL': '72903',\n",
       " 'AEP': '4904',\n",
       " 'CSC': '23082',\n",
       " 'PEG': '788784',\n",
       " 'WBA': '1618921',\n",
       " 'AA': '1675149',\n",
       " 'AXP': '4962',\n",
       " 'VZ': '732712',\n",
       " 'NRTLQ': '72911',\n",
       " 'BA': '12927',\n",
       " 'CAT': '18230',\n",
       " 'JPM': '19617',\n",
       " 'CVX': '93410',\n",
       " 'KO': '21344',\n",
       " 'DIS': '1744489',\n",
       " 'XOM': '34088',\n",
       " 'GE': '40545',\n",
       " 'HPQ': '47217',\n",
       " 'HD': '354950',\n",
       " 'IBM': '51143',\n",
       " 'JNJ': '200406',\n",
       " 'MCD': '63908',\n",
       " 'MRK': '310158',\n",
       " 'MMM': '66740',\n",
       " 'BAC': '70858',\n",
       " 'PFE': '78003',\n",
       " 'PG': '80424',\n",
       " 'T': '732717',\n",
       " 'UTX': '101829',\n",
       " 'WMT': '104169',\n",
       " 'TKR': '98362',\n",
       " 'MTLQQ': '40730',\n",
       " 'CI': '1739940',\n",
       " 'C': '831001',\n",
       " 'AIG': '5272',\n",
       " 'PCH': '1338749',\n",
       " 'HON': '773840',\n",
       " 'MO': '764180',\n",
       " 'INTC': '50863',\n",
       " 'IP': '51434',\n",
       " 'ABT': '1800',\n",
       " 'AMD': '2488',\n",
       " 'APD': '2969',\n",
       " 'HES': '4447',\n",
       " 'ADM': '7084',\n",
       " 'CCK': '1219601',\n",
       " 'AVY': '8818',\n",
       " 'AVP': '8868',\n",
       " 'BLL': '9389',\n",
       " 'BCR': '9892',\n",
       " 'BAX': '10456',\n",
       " 'BDX': '10795',\n",
       " 'BMS': '11199',\n",
       " 'HRB': '12659',\n",
       " 'BMY': '14272',\n",
       " 'RAD': '84129',\n",
       " 'CPB': '16732',\n",
       " 'MZIAQ': '716823',\n",
       " 'CLX': '21076',\n",
       " 'CL': '21665',\n",
       " 'NC': '789933',\n",
       " 'CAG': '23217',\n",
       " 'ED': '1047862',\n",
       " 'CBE': '1141982',\n",
       " 'GLW': '24741',\n",
       " 'CSX': '277948',\n",
       " 'CMI': '26172',\n",
       " 'SCI': '89089',\n",
       " 'TGT': '27419',\n",
       " 'DE': '315189',\n",
       " 'FLTWQ': '314132',\n",
       " 'D': '715957',\n",
       " 'DOV': '29905',\n",
       " 'DUK': '1326160',\n",
       " 'ETN': '1551182',\n",
       " 'ECL': '31462',\n",
       " 'PKI': '31791',\n",
       " 'EMR': '32604',\n",
       " 'ETR': '65984',\n",
       " 'FDX': '1048911',\n",
       " 'FMC': '37785',\n",
       " 'F': '37996',\n",
       " 'NEE': '753308',\n",
       " 'TGNA': '39899',\n",
       " 'GPS': '39911',\n",
       " 'GD': '40533',\n",
       " 'GIS': '40704',\n",
       " 'GPC': '40987',\n",
       " 'GR': '42542',\n",
       " 'GT': '42582',\n",
       " 'GWW': '277135',\n",
       " 'HAL': '45012',\n",
       " 'LHX': '202058',\n",
       " 'HNZ': '46640',\n",
       " 'HP': '46765',\n",
       " 'CNP': '1130310',\n",
       " 'HUM': '49071',\n",
       " 'ITW': '49826',\n",
       " 'IR': '1466258',\n",
       " 'FL': '850209',\n",
       " 'IFF': '51253',\n",
       " 'K': '55067',\n",
       " 'KMB': '55785',\n",
       " 'KR': '56873',\n",
       " 'LLY': '59478',\n",
       " 'LB': '701985',\n",
       " 'LNC': '59558',\n",
       " 'LOW': '60667',\n",
       " 'BDK': '12355',\n",
       " 'XRX': '1770450',\n",
       " 'MMC': '62709',\n",
       " 'MAS': '62996',\n",
       " 'BNI': '934612',\n",
       " 'SPGI': '64040',\n",
       " 'MDT': '1613103',\n",
       " 'CVS': '64803',\n",
       " 'WYE': '5187',\n",
       " 'MSI': '68505',\n",
       " 'ROH': '84792',\n",
       " 'THC': '70318',\n",
       " 'NWL': '814453',\n",
       " 'NEM': '1164727',\n",
       " 'MER': '65100',\n",
       " 'NSC': '702165',\n",
       " 'NOC': '1133421',\n",
       " 'WWY': '108601',\n",
       " 'WFC': '72971',\n",
       " 'NUE': '73309',\n",
       " 'OXY': '797468',\n",
       " 'OKE': '1039684',\n",
       " 'PCG': '1004980',\n",
       " 'PH': '76334',\n",
       " 'JCP': '1166126',\n",
       " 'PEP': '77476',\n",
       " 'DJ': '29924',\n",
       " 'EXC': '1109357',\n",
       " 'NYT': '71691',\n",
       " 'TEK': '96879',\n",
       " 'PHM': '822416',\n",
       " 'BOL': '10427',\n",
       " 'PBI': '78814',\n",
       " 'PNC': '713676',\n",
       " 'PPG': '79879',\n",
       " 'MEL': '64782',\n",
       " 'RTN': '1047122',\n",
       " 'RDC': '85408',\n",
       " 'R': '85961',\n",
       " 'HSH': '23666',\n",
       " 'PGL': '77385',\n",
       " 'EIX': '827052',\n",
       " 'LUB': '16099',\n",
       " 'SLB': '87347',\n",
       " 'SHW': '89800',\n",
       " 'BLS': '732713',\n",
       " 'SNA': '91440',\n",
       " 'SO': '92122',\n",
       " 'CNW': '23675',\n",
       " 'STJ': '203077',\n",
       " 'YRCW': '716006',\n",
       " 'SWK': '93556',\n",
       " 'GDW': '42293',\n",
       " 'STI': '750556',\n",
       " 'SVU': '95521',\n",
       " 'ANDW': '317093',\n",
       " 'SYY': '96021',\n",
       " 'CVGYQ': '73902',\n",
       " 'CAL': '14707',\n",
       " 'TXT': '217346',\n",
       " 'KRI': '205520',\n",
       " 'TJX': '109198',\n",
       " 'GL': '320335',\n",
       " 'HDLM': '314727',\n",
       " 'JCI': '833444',\n",
       " 'UNP': '100885',\n",
       " 'RBK': '770949',\n",
       " 'VFC': '103379',\n",
       " 'GP': '41077',\n",
       " 'BSET': '10329',\n",
       " 'WY': '106535',\n",
       " 'WHR': '106640',\n",
       " 'WMB': '107263',\n",
       " 'SPXC': '88205',\n",
       " 'TOY': '1005414',\n",
       " 'FWLT': '1130385',\n",
       " 'WOR': '108516',\n",
       " 'TAP': '24545',\n",
       " 'JWN': '72333',\n",
       " 'GCO': '18498',\n",
       " 'FJCC': '744106',\n",
       " 'CNA': '21175',\n",
       " 'PDG': '819996',\n",
       " 'NEU': '1282637',\n",
       " 'RDPL': '85486',\n",
       " 'NL': '72162',\n",
       " 'HST': '1070750',\n",
       " 'BCO': '78890',\n",
       " 'BNSSA': '14637',\n",
       " 'ARB': '109758',\n",
       " 'LDG': '764762',\n",
       " 'USG': '757011',\n",
       " 'TRV': '86312',\n",
       " 'VVI': '884219',\n",
       " 'MRO': '101778',\n",
       " 'RML': '85812',\n",
       " 'KATE': '352363',\n",
       " 'NKE': '320187',\n",
       " 'ACKH': '1109304',\n",
       " 'IKN': '3370',\n",
       " 'JH': '45599',\n",
       " 'PAS': '1084230',\n",
       " 'DTE': '936340',\n",
       " 'TXN': '97476',\n",
       " 'SRR': '94887',\n",
       " 'ITT': '216228',\n",
       " 'RSHCQ': '96289',\n",
       " 'MEE': '37748',\n",
       " 'RYAN': '355622',\n",
       " 'MDP': '65011',\n",
       " 'HAS': '46080',\n",
       " 'KBH': '795266',\n",
       " 'MAT': '63276',\n",
       " 'RRD': '29669',\n",
       " 'UALAQ': '100517',\n",
       " 'ASH': '1674862',\n",
       " 'HPC': '46989',\n",
       " 'UIS': '746838',\n",
       " 'DDS': '28917',\n",
       " 'ADP': '8670',\n",
       " 'FNMA': '310522',\n",
       " 'OMX': '12978',\n",
       " 'BC': '14930',\n",
       " 'CA': '356028',\n",
       " 'TIN': '731939',\n",
       " 'TXU': '1023291',\n",
       " 'NAV': '808450',\n",
       " 'LPX': '60519',\n",
       " 'AAPL': '320193',\n",
       " 'ADSK': '769397',\n",
       " 'CMCSA': '1166691',\n",
       " 'ORCL': '1341439',\n",
       " 'PCAR': '75362',\n",
       " 'CR': '25445',\n",
       " 'DLX': '27996',\n",
       " 'TNB': '97854',\n",
       " 'MDR': '708819',\n",
       " 'HET': '858339',\n",
       " 'CTB': '24491',\n",
       " 'USB': '36104',\n",
       " 'X': '1163302',\n",
       " 'FMCC': '1026214',\n",
       " 'AMGN': '318154',\n",
       " 'NOVL': '758004',\n",
       " 'IPG': '51644',\n",
       " 'PX': '884905',\n",
       " 'JAVA': '709519',\n",
       " 'KRB': '870517',\n",
       " 'GOLD': '756894',\n",
       " 'MS': '895421',\n",
       " 'EMN': '915389',\n",
       " 'CSCO': '858877',\n",
       " 'COST': '909832',\n",
       " 'CMCSK': '1166691',\n",
       " 'MSFT': '789019',\n",
       " 'VIAC': '813828',\n",
       " 'NCC': '69970',\n",
       " 'LUV': '92380',\n",
       " 'CIN': '899652',\n",
       " 'UNH': '731766',\n",
       " 'UNM': '5513',\n",
       " 'KEY': '91576',\n",
       " 'MU': '723125',\n",
       " 'SIAL': '90185',\n",
       " 'BK': '1390777',\n",
       " 'BSX': '885725',\n",
       " 'CMA': '28412',\n",
       " 'M': '794367',\n",
       " 'FCX': '831259',\n",
       " 'CAR': '723612',\n",
       " 'L': '60086',\n",
       " 'PPL': '922224',\n",
       " 'COP': '1163165',\n",
       " 'ETS': '846909',\n",
       " 'ALL': '899051',\n",
       " 'LMT': '936468',\n",
       " 'DRI': '940944',\n",
       " 'HIG': '874766',\n",
       " 'AMAT': '6951',\n",
       " 'TLAB': '317771',\n",
       " 'AON': '315293',\n",
       " 'TEN': '1024725',\n",
       " 'GDT': '929987',\n",
       " 'ATI': '1018963',\n",
       " 'MBI': '814585',\n",
       " 'MTG': '876437',\n",
       " 'TUP': '1008654',\n",
       " 'EMC': '790070',\n",
       " 'LU': '1006240',\n",
       " 'ROK': '1024478',\n",
       " 'FITB': '35527',\n",
       " 'APC': '773910',\n",
       " 'APA': '6769',\n",
       " 'AZO': '866787',\n",
       " 'EFX': '33185',\n",
       " 'OMC': '29989',\n",
       " 'CFC': '25191',\n",
       " 'PGR': '80661',\n",
       " 'SCHW': '316709',\n",
       " 'TFC': '92230',\n",
       " 'TMO': '97745',\n",
       " 'PVN': '1035713',\n",
       " 'CAH': '721371',\n",
       " 'STT': '93751',\n",
       " 'YUM': '1041061',\n",
       " 'FE': '1031296',\n",
       " 'SNV': '18349',\n",
       " 'OI': '812074',\n",
       " 'ADBE': '796343',\n",
       " 'KLAC': '319201',\n",
       " 'CINF': '20286',\n",
       " 'HBAN': '49196',\n",
       " 'PTC': '857005',\n",
       " 'EHC': '785161',\n",
       " 'AEE': '1002910',\n",
       " 'GRA': '1045309',\n",
       " 'DHR': '313616',\n",
       " 'SWY': '86144',\n",
       " 'GTW': '895812',\n",
       " 'SEE': '1012100',\n",
       " 'SRE': '1032208',\n",
       " 'SLM': '1032033',\n",
       " 'NTRS': '73124',\n",
       " 'BMC': '835729',\n",
       " 'CCL': '815097',\n",
       " 'CCEP': '1650107',\n",
       " 'BIG': '768835',\n",
       " 'BEN': '38777',\n",
       " 'KSS': '885639',\n",
       " 'AES': '874761',\n",
       " 'TWX': '1105705',\n",
       " 'WM': '823768',\n",
       " 'COF': '927628',\n",
       " 'MAR': '1048286',\n",
       " 'MCO': '1059556',\n",
       " 'LEHMQ': '806085',\n",
       " 'PAYX': '723531',\n",
       " 'SPLS': '791519',\n",
       " 'SXCL': '709804',\n",
       " 'AFL': '4977',\n",
       " 'ADI': '6281',\n",
       " 'BBY': '764478',\n",
       " 'KSU': '54480',\n",
       " 'CTL': '18926',\n",
       " 'CMS': '811156',\n",
       " 'LEG': '58492',\n",
       " 'AW': '848865',\n",
       " 'PNW': '764622',\n",
       " 'TER': '97210',\n",
       " 'VMC': '1396009',\n",
       " 'AGN': '1578845',\n",
       " 'MCK': '927653',\n",
       " 'LXK': '1001288',\n",
       " 'ODP': '800240',\n",
       " 'PTV': '1089976',\n",
       " 'RIG': '1451505',\n",
       " 'NCR': '70866',\n",
       " 'CMVT': '803014',\n",
       " 'MOLX': '67472',\n",
       " 'BBBY': '886158',\n",
       " 'QCOM': '804328',\n",
       " 'TROW': '1113169',\n",
       " 'XLNX': '743988',\n",
       " 'NTAP': '1002047',\n",
       " 'CTXS': '877890',\n",
       " '': '3906',\n",
       " 'NMK': '1092083',\n",
       " 'BHI': '1051379',\n",
       " 'CEG': '865231',\n",
       " 'MKG': '886475',\n",
       " 'SGP': '1057352',\n",
       " 'TRB': '787648',\n",
       " 'NAE': '764843',\n",
       " 'UCL': '811779',\n",
       " 'HM': '21212',\n",
       " 'RAL': '1091326',\n",
       " 'OAT': '909990',\n",
       " 'CGP': '1012270',\n",
       " 'FJ': '744106',\n",
       " 'USW': '895716',\n",
       " 'WLA': '13573',\n",
       " 'TMC': '906282',\n",
       " 'BKB': '735993',\n",
       " 'RYC': '1084507',\n",
       " 'MWI': '1323974',\n",
       " 'RBD': '1022097',\n",
       " 'ORX': '1098315',\n",
       " 'AS': '1200022',\n",
       " 'DEC': '910521',\n",
       " 'PET': '77877',\n",
       " 'BLY': '1091964',\n",
       " 'THY': '932104',\n",
       " 'OM': '12978',\n",
       " 'VAT': '932104',\n",
       " 'FFB': '708955',\n",
       " 'MXS': '1101865',\n",
       " 'NEC': '1008946',\n",
       " 'GQ': '1060390',\n",
       " 'IK': '3370',\n",
       " 'UH': '4457',\n",
       " 'LCE': '1041859',\n",
       " 'FBF': '925259',\n",
       " 'ECO': '59527',\n",
       " 'AZA': '1499961',\n",
       " 'UEP': '1041514',\n",
       " 'WAI': '1378718',\n",
       " 'RNB': '764402',\n",
       " 'SGID': '1138817',\n",
       " 'BMG': '1038368',\n",
       " 'HFS': '1506492',\n",
       " 'NGH': '1578735',\n",
       " 'NCE': '57528',\n",
       " 'RX': '947661',\n",
       " 'UPC': '1108487',\n",
       " 'AFS': '921066',\n",
       " 'EP': '1100748',\n",
       " 'COC': '353567',\n",
       " 'TOS': '800861',\n",
       " 'OK': '54639',\n",
       " 'FPC': '319126',\n",
       " 'part': '1096494',\n",
       " 'MSCI': '1408198'}"
      ]
     },
     "execution_count": 315,
     "metadata": {},
     "output_type": "execute_result"
    }
   ],
   "source": [
    "cik"
   ]
  },
  {
   "cell_type": "code",
   "execution_count": null,
   "metadata": {},
   "outputs": [],
   "source": [
    "cik[equity]=match[match['title'].str.upper()==(equity.upper())]['cik_str'].iloc[0]"
   ]
  },
  {
   "cell_type": "code",
   "execution_count": 129,
   "metadata": {},
   "outputs": [
    {
     "data": {
      "text/html": [
       "<div>\n",
       "<style scoped>\n",
       "    .dataframe tbody tr th:only-of-type {\n",
       "        vertical-align: middle;\n",
       "    }\n",
       "\n",
       "    .dataframe tbody tr th {\n",
       "        vertical-align: top;\n",
       "    }\n",
       "\n",
       "    .dataframe thead th {\n",
       "        text-align: right;\n",
       "    }\n",
       "</style>\n",
       "<table border=\"1\" class=\"dataframe\">\n",
       "  <thead>\n",
       "    <tr style=\"text-align: right;\">\n",
       "      <th></th>\n",
       "      <th>cik_str</th>\n",
       "      <th>ticker</th>\n",
       "      <th>title</th>\n",
       "    </tr>\n",
       "  </thead>\n",
       "  <tbody>\n",
       "    <tr>\n",
       "      <td>11003</td>\n",
       "      <td>1424847</td>\n",
       "      <td>LO</td>\n",
       "      <td>LORILLARDLLC</td>\n",
       "    </tr>\n",
       "  </tbody>\n",
       "</table>\n",
       "</div>"
      ],
      "text/plain": [
       "       cik_str ticker         title\n",
       "11003  1424847     LO  LORILLARDLLC"
      ]
     },
     "execution_count": 129,
     "metadata": {},
     "output_type": "execute_result"
    }
   ],
   "source": [
    "match[match['title'].str.contains('LORILLARD')]"
   ]
  },
  {
   "cell_type": "code",
   "execution_count": 104,
   "metadata": {},
   "outputs": [
    {
     "data": {
      "text/html": [
       "<div>\n",
       "<style scoped>\n",
       "    .dataframe tbody tr th:only-of-type {\n",
       "        vertical-align: middle;\n",
       "    }\n",
       "\n",
       "    .dataframe tbody tr th {\n",
       "        vertical-align: top;\n",
       "    }\n",
       "\n",
       "    .dataframe thead th {\n",
       "        text-align: right;\n",
       "    }\n",
       "</style>\n",
       "<table border=\"1\" class=\"dataframe\">\n",
       "  <thead>\n",
       "    <tr style=\"text-align: right;\">\n",
       "      <th></th>\n",
       "      <th>cik_str</th>\n",
       "      <th>ticker</th>\n",
       "      <th>title</th>\n",
       "    </tr>\n",
       "  </thead>\n",
       "  <tbody>\n",
       "    <tr>\n",
       "      <td>6455</td>\n",
       "      <td>1043604</td>\n",
       "      <td>JNPR</td>\n",
       "      <td>JUNIPER NETWORKS</td>\n",
       "    </tr>\n",
       "  </tbody>\n",
       "</table>\n",
       "</div>"
      ],
      "text/plain": [
       "      cik_str ticker              title\n",
       "6455  1043604   JNPR  JUNIPER NETWORKS "
      ]
     },
     "execution_count": 104,
     "metadata": {},
     "output_type": "execute_result"
    }
   ],
   "source": [
    "match[match['title']=='JUNIPER NETWORKS ']"
   ]
  },
  {
   "cell_type": "code",
   "execution_count": null,
   "metadata": {
    "scrolled": true
   },
   "outputs": [],
   "source": [
    "except1"
   ]
  },
  {
   "cell_type": "markdown",
   "metadata": {},
   "source": [
    "<b>Finding 10ks for exceptions(mostly closed and acquired firms)"
   ]
  },
  {
   "cell_type": "code",
   "execution_count": null,
   "metadata": {},
   "outputs": [],
   "source": [
    "len(except1)"
   ]
  },
  {
   "cell_type": "code",
   "execution_count": null,
   "metadata": {},
   "outputs": [],
   "source": []
  },
  {
   "cell_type": "code",
   "execution_count": null,
   "metadata": {},
   "outputs": [],
   "source": [
    "ciks={}"
   ]
  },
  {
   "cell_type": "code",
   "execution_count": null,
   "metadata": {},
   "outputs": [],
   "source": [
    "for i in except1:\n",
    "    ciks[i]="
   ]
  },
  {
   "cell_type": "code",
   "execution_count": null,
   "metadata": {},
   "outputs": [],
   "source": [
    "idx = link.index('&type=')+6\n",
    "my_str = 'https://www.sec.gov/'+link[:idx] + '10-k' + link[idx:]\n",
    "soup=BeautifulSoup(requests.get(url = my_str).content,'lxml')"
   ]
  },
  {
   "cell_type": "code",
   "execution_count": null,
   "metadata": {},
   "outputs": [],
   "source": [
    "my_str"
   ]
  },
  {
   "cell_type": "code",
   "execution_count": null,
   "metadata": {},
   "outputs": [],
   "source": [
    "soup.find_all('table')\n"
   ]
  },
  {
   "cell_type": "markdown",
   "metadata": {},
   "source": [
    "<b>Finding all ciks"
   ]
  },
  {
   "cell_type": "code",
   "execution_count": 23,
   "metadata": {},
   "outputs": [],
   "source": [
    "import pandas as pd"
   ]
  },
  {
   "cell_type": "code",
   "execution_count": 2,
   "metadata": {},
   "outputs": [],
   "source": [
    "import requests"
   ]
  },
  {
   "cell_type": "code",
   "execution_count": 8,
   "metadata": {},
   "outputs": [],
   "source": [
    "import re"
   ]
  },
  {
   "cell_type": "code",
   "execution_count": 114,
   "metadata": {},
   "outputs": [],
   "source": [
    "for equity in total_snp[0:10]:\n",
    "    match=cik_df.copy()\n",
    "    \n",
    "    equity = equity.translate({ord(c): None for c in ',.-'})\n",
    "    equity = equity.replace(\"'\", \"\")\n",
    "    #Remove company type\n",
    "    equity = equity.replace(\"Corporation\", \"\")\n",
    "    equity = equity.replace(\"Corp\", \"\")\n",
    "    equity = equity.replace(\"Co\", \"\")\n",
    "    equity = equity.replace(\"Inc\", \"\")\n",
    "    equity = equity.replace(\"LLC\", \"\")\n",
    "    equity = equity.replace(\"PLC\", \"\")\n",
    "    equity = equity.replace(\"Ltd\", \"\")\n",
    "    equity = equity.replace(\"/The\", \"\")\n",
    "    \n",
    "    \n",
    "    \n",
    "    \n",
    "    match.index=match.index.str.replace(\",\",\"\")\n",
    "    match.index=match.index.str.replace(\".\",\"\")\n",
    "    match.index=match.index.str.replace(\"-\",\"\")\n",
    "    \n",
    "    #Remove company type\n",
    "    match.index=match.index.str.replace(\"-\",\"\")\n",
    "    match.index=match.index.str.replace(\"-\",\"\")\n",
    "    match.index=match.index.str.replace(\"-\",\"\")\n",
    "    match.index=match.index.str.replace(\"-\",\"\")\n",
    "    \n",
    "    try:\n",
    "        cik[equity]=match[match.index.str.upper().str.contains(equity.upper())]['CIK'].iloc[0]\n",
    "    except:\n",
    "        \n",
    "        except1.append(equity)\n",
    "        pass"
   ]
  },
  {
   "cell_type": "code",
   "execution_count": 116,
   "metadata": {},
   "outputs": [
    {
     "data": {
      "text/plain": [
       "'2056Q UN Equity'"
      ]
     },
     "execution_count": 116,
     "metadata": {},
     "output_type": "execute_result"
    }
   ],
   "source": [
    "equity"
   ]
  },
  {
   "cell_type": "code",
   "execution_count": 58,
   "metadata": {},
   "outputs": [
    {
     "data": {
      "text/plain": [
       "{'Mercantile Stores Co Inc': '0000064923',\n",
       " 'Briggs & Stratton Co': '0000014195',\n",
       " 'Skyline Champion Co': '0000090896',\n",
       " 'Hershey Co': '0000047111',\n",
       " 'Niagara Mohawk Holdings Inc': '0001079182',\n",
       " 'Westmoreland Coal Co': '0001615389',\n",
       " 'Xcel Energy Inc': '0000072903'}"
      ]
     },
     "execution_count": 58,
     "metadata": {},
     "output_type": "execute_result"
    }
   ],
   "source": [
    "cik"
   ]
  },
  {
   "cell_type": "code",
   "execution_count": 48,
   "metadata": {},
   "outputs": [
    {
     "data": {
      "text/plain": [
       "'Ascend Communications Inc'"
      ]
     },
     "execution_count": 48,
     "metadata": {},
     "output_type": "execute_result"
    }
   ],
   "source": [
    "equity"
   ]
  },
  {
   "cell_type": "code",
   "execution_count": 51,
   "metadata": {},
   "outputs": [
    {
     "data": {
      "text/plain": [
       "657"
      ]
     },
     "execution_count": 51,
     "metadata": {},
     "output_type": "execute_result"
    }
   ],
   "source": [
    "total_snp.index(equity)"
   ]
  },
  {
   "cell_type": "code",
   "execution_count": 70,
   "metadata": {},
   "outputs": [
    {
     "ename": "NameError",
     "evalue": "name 'df_combined' is not defined",
     "output_type": "error",
     "traceback": [
      "\u001b[1;31m---------------------------------------------------------------------------\u001b[0m",
      "\u001b[1;31mNameError\u001b[0m                                 Traceback (most recent call last)",
      "\u001b[1;32m<ipython-input-70-81475876ee65>\u001b[0m in \u001b[0;36m<module>\u001b[1;34m\u001b[0m\n\u001b[1;32m----> 1\u001b[1;33m \u001b[0mdf_combined\u001b[0m\u001b[1;33m\u001b[0m\u001b[1;33m\u001b[0m\u001b[0m\n\u001b[0m",
      "\u001b[1;31mNameError\u001b[0m: name 'df_combined' is not defined"
     ]
    }
   ],
   "source": [
    "    df_combined"
   ]
  },
  {
   "cell_type": "code",
   "execution_count": 43,
   "metadata": {},
   "outputs": [
    {
     "data": {
      "text/plain": [
       "Index(['!J INC', '#1 A LIFESAFER HOLDINGS INC.',\n",
       "       '#1 ARIZONA DISCOUNT PROPERTIES LLC', '#1 PAINTBALL CORP', '$ LLC',\n",
       "       '$AVY INC.', '& S MEDIA GROUP LLC', '&TV COMMUNICATIONS INC.',\n",
       "       ''LAINE'S BAKE SHOP LLC SERIES OF BG CONSORTIUM LLC', ''MKTG INC.'',\n",
       "       ...\n",
       "       'ZYVERSA THERAPEUTICS INC.', 'ZYVEX CORP', 'ZYWIE INC.',\n",
       "       'ZZ BIOTECH LLC', 'ZZ GLOBAL LLC', 'ZZIF 2008 INVESTMENT LLC',\n",
       "       'ZZLL INFORMATION TECHNOLOGY INC', 'ZZX LLC', 'ZZYZX ZZAZX ZZOZX INC',\n",
       "       'ZZZ MEDIA HOLDINGS INC.'],\n",
       "      dtype='object', length=741753)"
      ]
     },
     "execution_count": 43,
     "metadata": {},
     "output_type": "execute_result"
    }
   ],
   "source": [
    "cik_df.index.str.replace(\",\",\"\")"
   ]
  }
 ],
 "metadata": {
  "kernelspec": {
   "display_name": "Python 3",
   "language": "python",
   "name": "python3"
  },
  "language_info": {
   "codemirror_mode": {
    "name": "ipython",
    "version": 3
   },
   "file_extension": ".py",
   "mimetype": "text/x-python",
   "name": "python",
   "nbconvert_exporter": "python",
   "pygments_lexer": "ipython3",
   "version": "3.7.4"
  }
 },
 "nbformat": 4,
 "nbformat_minor": 2
}
